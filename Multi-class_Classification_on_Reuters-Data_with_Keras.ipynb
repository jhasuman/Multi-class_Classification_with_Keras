{
 "cells": [
  {
   "cell_type": "markdown",
   "metadata": {},
   "source": [
    "### Multi-class Classification\n",
    "\n",
    "In this notebook we are going to build a deep learning model on **Reuters dataset in Keras**. Reuters datasets comes as package with Keras so we don't have to download it from any website.\n",
    "\n",
    "**About Dataset**: Data set is set of short newswires and their topics, published by Reuters in 1986. There are 46 different topics and every topics has minimum of 10 examples in the traning set.\n",
    "\n",
    "Dataset has been splited into traning and test with 8982 and 2246 examples respectively.\n",
    "\n",
    "**Type of Multi-class classification**: There are two types of Multi-class classification \n",
    "1. Single label multi-class classification : Each data point (examples in our case) will classify into only one category.  \n",
    "2. Multi label multi-class classification  : Each data point will calssify into more than one category. "
   ]
  },
  {
   "cell_type": "code",
   "execution_count": 2,
   "metadata": {},
   "outputs": [
    {
     "name": "stderr",
     "output_type": "stream",
     "text": [
      "Using TensorFlow backend.\n"
     ]
    }
   ],
   "source": [
    "#import the libraries \n",
    "import numpy as np\n",
    "import matplotlib.pyplot as plt\n",
    "import keras \n",
    "%matplotlib inline"
   ]
  },
  {
   "cell_type": "code",
   "execution_count": 3,
   "metadata": {
    "collapsed": true
   },
   "outputs": [],
   "source": [
    "#Load the data\n",
    "from keras.datasets import reuters\n",
    "(train_data, train_labels), (test_data, test_labels) = reuters.load_data(num_words=12000)"
   ]
  },
  {
   "cell_type": "code",
   "execution_count": 4,
   "metadata": {},
   "outputs": [
    {
     "data": {
      "text/plain": [
       "8982"
      ]
     },
     "execution_count": 4,
     "metadata": {},
     "output_type": "execute_result"
    }
   ],
   "source": [
    "#Data checking\n",
    "len(train_data)"
   ]
  },
  {
   "cell_type": "code",
   "execution_count": 5,
   "metadata": {},
   "outputs": [
    {
     "data": {
      "text/plain": [
       "2246"
      ]
     },
     "execution_count": 5,
     "metadata": {},
     "output_type": "execute_result"
    }
   ],
   "source": [
    "len(test_data)"
   ]
  },
  {
   "cell_type": "code",
   "execution_count": 5,
   "metadata": {},
   "outputs": [
    {
     "data": {
      "text/plain": [
       "[1,\n",
       " 4,\n",
       " 37,\n",
       " 38,\n",
       " 309,\n",
       " 213,\n",
       " 349,\n",
       " 1632,\n",
       " 48,\n",
       " 193,\n",
       " 229,\n",
       " 463,\n",
       " 28,\n",
       " 156,\n",
       " 635,\n",
       " 11,\n",
       " 82,\n",
       " 14,\n",
       " 156,\n",
       " 635,\n",
       " 11,\n",
       " 82,\n",
       " 54,\n",
       " 139,\n",
       " 16,\n",
       " 349,\n",
       " 105,\n",
       " 462,\n",
       " 311,\n",
       " 28,\n",
       " 296,\n",
       " 147,\n",
       " 11,\n",
       " 82,\n",
       " 14,\n",
       " 296,\n",
       " 147,\n",
       " 11,\n",
       " 54,\n",
       " 139,\n",
       " 342,\n",
       " 48,\n",
       " 193,\n",
       " 3234,\n",
       " 361,\n",
       " 122,\n",
       " 23,\n",
       " 1332,\n",
       " 28,\n",
       " 318,\n",
       " 942,\n",
       " 11,\n",
       " 82,\n",
       " 14,\n",
       " 318,\n",
       " 942,\n",
       " 11,\n",
       " 82,\n",
       " 54,\n",
       " 139,\n",
       " 122,\n",
       " 7,\n",
       " 105,\n",
       " 462,\n",
       " 23,\n",
       " 349,\n",
       " 28,\n",
       " 296,\n",
       " 767,\n",
       " 11,\n",
       " 82,\n",
       " 14,\n",
       " 296,\n",
       " 767,\n",
       " 11,\n",
       " 54,\n",
       " 139,\n",
       " 342,\n",
       " 229,\n",
       " 162,\n",
       " 7,\n",
       " 48,\n",
       " 193,\n",
       " 55,\n",
       " 408,\n",
       " 28,\n",
       " 258,\n",
       " 557,\n",
       " 11,\n",
       " 82,\n",
       " 14,\n",
       " 196,\n",
       " 557,\n",
       " 11,\n",
       " 82,\n",
       " 54,\n",
       " 139,\n",
       " 162,\n",
       " 7,\n",
       " 105,\n",
       " 462,\n",
       " 55,\n",
       " 349,\n",
       " 28,\n",
       " 191,\n",
       " 968,\n",
       " 11,\n",
       " 82,\n",
       " 14,\n",
       " 191,\n",
       " 785,\n",
       " 11,\n",
       " 54,\n",
       " 139,\n",
       " 17,\n",
       " 12]"
      ]
     },
     "execution_count": 5,
     "metadata": {},
     "output_type": "execute_result"
    }
   ],
   "source": [
    "#Let's findout how data train data looks like\n",
    "train_data[5] #The reuters data short news is a sequence of integer and every integer represents words from dictonery"
   ]
  },
  {
   "cell_type": "markdown",
   "metadata": {},
   "source": [
    "*We can decode the data from integer to words but we are not going to do this here\n"
   ]
  },
  {
   "cell_type": "code",
   "execution_count": 6,
   "metadata": {},
   "outputs": [
    {
     "data": {
      "text/plain": [
       "4"
      ]
     },
     "execution_count": 6,
     "metadata": {},
     "output_type": "execute_result"
    }
   ],
   "source": [
    "train_labels[5]"
   ]
  },
  {
   "cell_type": "code",
   "execution_count": 6,
   "metadata": {
    "collapsed": true
   },
   "outputs": [],
   "source": [
    "#Data Prepration\n",
    "# Since train data is in form of sequence of words so we need to vectorize it.\n",
    "\n",
    "def vectorize_sequences(sequences, dimension=12000): #Because we had restricted the number of words 12000\n",
    "    results = np.zeros((len(sequences), dimension)) #Creating a zero vector of size sequences and dimension\n",
    "    for i, sequence in enumerate(sequences):\n",
    "        results[i, sequence] = 1\n",
    "    return results"
   ]
  },
  {
   "cell_type": "code",
   "execution_count": 7,
   "metadata": {
    "collapsed": true
   },
   "outputs": [],
   "source": [
    "# Our Vectorized traning and test data\n",
    "x_train = vectorize_sequences(train_data)\n",
    "x_test = vectorize_sequences(test_data)"
   ]
  },
  {
   "cell_type": "code",
   "execution_count": 8,
   "metadata": {
    "collapsed": true
   },
   "outputs": [],
   "source": [
    "#Vectorizitation of labels\n",
    "#Keras has inbuild way of converting multi labels into vector form using utiles\n",
    "from keras.utils.np_utils import to_categorical\n",
    "train_labels = to_categorical(train_labels)\n",
    "test_labels = to_categorical(test_labels)"
   ]
  },
  {
   "cell_type": "code",
   "execution_count": 9,
   "metadata": {
    "collapsed": true
   },
   "outputs": [],
   "source": [
    "#Network formation\n",
    "#We are building three nureal layer network.\n",
    "#Number of hidden unit in hidden layer is 64 because out layer has 46 units. So if we are are using hidden unit less\n",
    "#than 46 information dorwpout might occur.\n",
    "#We have used relu as our activation function for hidden layers and softmax for output layer.\n",
    "from keras import models\n",
    "from keras import layers\n",
    "\n",
    "model = models.Sequential() #We are using sequential model because we are dealing with 2D tensor data\n",
    "model.add(layers.Dense(64, activation='relu', input_shape=(12000,)))\n",
    "model.add(layers.Dense(64, activation='relu'))\n",
    "model.add(layers.Dense(46, activation='softmax'))"
   ]
  },
  {
   "cell_type": "code",
   "execution_count": 10,
   "metadata": {},
   "outputs": [],
   "source": [
    "#Compiling the model\n",
    "#We have used rmsprop as optmizier, categorical_crossentropy as loss function because it measures the distance between prediction and ground trouth\n",
    "model.compile(optimizer='rmsprop', loss='categorical_crossentropy', metrics=['accuracy'])\n",
    "\n",
    "#Creating validation data set\n",
    "x_val = x_train[:1000]\n",
    "x_train = x_train[1000:]\n",
    "\n",
    "y_val = train_labels[:1000]\n",
    "y_train = train_labels[1000:]"
   ]
  },
  {
   "cell_type": "code",
   "execution_count": 11,
   "metadata": {},
   "outputs": [
    {
     "name": "stdout",
     "output_type": "stream",
     "text": [
      "Train on 7982 samples, validate on 1000 samples\n",
      "Epoch 1/20\n",
      "7982/7982 [==============================] - 2s 218us/step - loss: 2.5265 - acc: 0.5005 - val_loss: 1.7178 - val_acc: 0.6120\n",
      "Epoch 2/20\n",
      "7982/7982 [==============================] - 2s 206us/step - loss: 1.4382 - acc: 0.6906 - val_loss: 1.3430 - val_acc: 0.7110\n",
      "Epoch 3/20\n",
      "7982/7982 [==============================] - 2s 205us/step - loss: 1.0816 - acc: 0.7676 - val_loss: 1.1664 - val_acc: 0.7430\n",
      "Epoch 4/20\n",
      "7982/7982 [==============================] - 2s 206us/step - loss: 0.8526 - acc: 0.8202 - val_loss: 1.0861 - val_acc: 0.7560\n",
      "Epoch 5/20\n",
      "7982/7982 [==============================] - 2s 204us/step - loss: 0.6842 - acc: 0.8527 - val_loss: 0.9834 - val_acc: 0.7790\n",
      "Epoch 6/20\n",
      "7982/7982 [==============================] - 2s 204us/step - loss: 0.5482 - acc: 0.8839 - val_loss: 0.9400 - val_acc: 0.8020\n",
      "Epoch 7/20\n",
      "7982/7982 [==============================] - 2s 204us/step - loss: 0.4416 - acc: 0.9074 - val_loss: 0.9142 - val_acc: 0.8060\n",
      "Epoch 8/20\n",
      "7982/7982 [==============================] - 2s 205us/step - loss: 0.3553 - acc: 0.9251 - val_loss: 0.9474 - val_acc: 0.7910\n",
      "Epoch 9/20\n",
      "7982/7982 [==============================] - 2s 206us/step - loss: 0.2905 - acc: 0.9346 - val_loss: 0.8970 - val_acc: 0.8090\n",
      "Epoch 10/20\n",
      "7982/7982 [==============================] - 2s 206us/step - loss: 0.2433 - acc: 0.9436 - val_loss: 0.9132 - val_acc: 0.8110\n",
      "Epoch 11/20\n",
      "7982/7982 [==============================] - 2s 205us/step - loss: 0.2100 - acc: 0.9485 - val_loss: 0.9275 - val_acc: 0.8120\n",
      "Epoch 12/20\n",
      "7982/7982 [==============================] - 2s 204us/step - loss: 0.1804 - acc: 0.9514 - val_loss: 0.9163 - val_acc: 0.8100\n",
      "Epoch 13/20\n",
      "7982/7982 [==============================] - 2s 206us/step - loss: 0.1646 - acc: 0.9528 - val_loss: 0.9412 - val_acc: 0.8110\n",
      "Epoch 14/20\n",
      "7982/7982 [==============================] - 2s 205us/step - loss: 0.1491 - acc: 0.9558 - val_loss: 0.9741 - val_acc: 0.8120\n",
      "Epoch 15/20\n",
      "7982/7982 [==============================] - 2s 205us/step - loss: 0.1358 - acc: 0.9554 - val_loss: 0.9805 - val_acc: 0.8120\n",
      "Epoch 16/20\n",
      "7982/7982 [==============================] - 2s 206us/step - loss: 0.1289 - acc: 0.9554 - val_loss: 1.0385 - val_acc: 0.8030\n",
      "Epoch 17/20\n",
      "7982/7982 [==============================] - 2s 206us/step - loss: 0.1198 - acc: 0.9582 - val_loss: 1.0344 - val_acc: 0.7990\n",
      "Epoch 18/20\n",
      "7982/7982 [==============================] - 2s 204us/step - loss: 0.1179 - acc: 0.9572 - val_loss: 1.0599 - val_acc: 0.8040\n",
      "Epoch 19/20\n",
      "7982/7982 [==============================] - 2s 205us/step - loss: 0.1120 - acc: 0.9595 - val_loss: 1.1171 - val_acc: 0.7980\n",
      "Epoch 20/20\n",
      "7982/7982 [==============================] - 2s 206us/step - loss: 0.1094 - acc: 0.9593 - val_loss: 1.0863 - val_acc: 0.8070\n"
     ]
    }
   ],
   "source": [
    "#Traning the models in 20 epochs in batchsize 512\n",
    "history = model.fit(x_train, y_train, epochs=20, batch_size=512, validation_data=(x_val, y_val))"
   ]
  },
  {
   "cell_type": "markdown",
   "metadata": {
    "collapsed": true
   },
   "source": [
    "**We can see after epoch 15 the model is start overfitting. We can visualize through graph** "
   ]
  },
  {
   "cell_type": "code",
   "execution_count": 13,
   "metadata": {},
   "outputs": [
    {
     "data": {
      "image/png": "[encoded data removed]",
      "text/plain": [
       "<matplotlib.figure.Figure at 0x7faaeffa2450>"
      ]
     },
     "metadata": {},
     "output_type": "display_data"
    }
   ],
   "source": [
    "#let's plot the loss and accuracy \n",
    "#Plotting loss \n",
    "history_dict = history.history\n",
    "loss_values = history_dict['loss']\n",
    "val_loss_values = history_dict['val_loss']\n",
    "epochs = range(1, len(loss_values) + 1)\n",
    "\n",
    "plt.plot(epochs, loss_values, 'bo')\n",
    "plt.plot(epochs, val_loss_values, 'b+')\n",
    "plt.xlabel('Epochs')\n",
    "plt.ylabel('Loss')\n",
    "\n",
    "plt.show()"
   ]
  },
  {
   "cell_type": "markdown",
   "metadata": {},
   "source": [
    "In above graph we can see, initially loss function has been decreasing with each epochs but after epochs 16 it has again started increasing.  "
   ]
  },
  {
   "cell_type": "code",
   "execution_count": 16,
   "metadata": {},
   "outputs": [
    {
     "data": {
      "image/png": "[encoded data removed]",
      "text/plain": [
       "<matplotlib.figure.Figure at 0x7faafe1371d0>"
      ]
     },
     "metadata": {},
     "output_type": "display_data"
    }
   ],
   "source": [
    "#Let's plot traning and validation accuracy\n",
    "acc_values = history_dict['acc']\n",
    "val_acc_values = history_dict['val_acc']\n",
    "\n",
    "plt.plot(epochs, acc_values, 'bo')\n",
    "plt.plot(epochs, val_acc_values, 'b+')\n",
    "plt.xlabel('Epochs')\n",
    "plt.ylabel('Accuracy')\n",
    "\n",
    "plt.show()"
   ]
  },
  {
   "cell_type": "markdown",
   "metadata": {},
   "source": [
    "**It seems network start overfitting after epochs 15.** *Which means we can get the maximum validation accuracy for epochs 15.*\n",
    "We can retrain our model for the getting maximum accuracy. "
   ]
  },
  {
   "cell_type": "code",
   "execution_count": 29,
   "metadata": {},
   "outputs": [
    {
     "name": "stdout",
     "output_type": "stream",
     "text": [
      "Train on 7982 samples, validate on 1000 samples\n",
      "Epoch 1/14\n",
      "7982/7982 [==============================] - 2s 207us/step - loss: 2.5265 - acc: 0.5155 - val_loss: 1.6995 - val_acc: 0.6310\n",
      "Epoch 2/14\n",
      "7982/7982 [==============================] - 1s 180us/step - loss: 1.4099 - acc: 0.6954 - val_loss: 1.3108 - val_acc: 0.7090\n",
      "Epoch 3/14\n",
      "7982/7982 [==============================] - 1s 181us/step - loss: 1.0526 - acc: 0.7747 - val_loss: 1.1442 - val_acc: 0.7590\n",
      "Epoch 4/14\n",
      "7982/7982 [==============================] - 1s 181us/step - loss: 0.8343 - acc: 0.8262 - val_loss: 1.0465 - val_acc: 0.7660\n",
      "Epoch 5/14\n",
      "7982/7982 [==============================] - 1s 180us/step - loss: 0.6635 - acc: 0.8614 - val_loss: 0.9989 - val_acc: 0.7860\n",
      "Epoch 6/14\n",
      "7982/7982 [==============================] - 1s 179us/step - loss: 0.5254 - acc: 0.8899 - val_loss: 0.9531 - val_acc: 0.7970\n",
      "Epoch 7/14\n",
      "7982/7982 [==============================] - 1s 179us/step - loss: 0.4225 - acc: 0.9099 - val_loss: 0.9241 - val_acc: 0.8160\n",
      "Epoch 8/14\n",
      "7982/7982 [==============================] - 1s 180us/step - loss: 0.3439 - acc: 0.9262 - val_loss: 0.9049 - val_acc: 0.8160\n",
      "Epoch 9/14\n",
      "7982/7982 [==============================] - 1s 180us/step - loss: 0.2828 - acc: 0.9396 - val_loss: 0.9487 - val_acc: 0.8080\n",
      "Epoch 10/14\n",
      "7982/7982 [==============================] - 1s 181us/step - loss: 0.2377 - acc: 0.9461 - val_loss: 0.9026 - val_acc: 0.8240\n",
      "Epoch 11/14\n",
      "7982/7982 [==============================] - 1s 180us/step - loss: 0.2049 - acc: 0.9499 - val_loss: 0.9471 - val_acc: 0.8100\n",
      "Epoch 12/14\n",
      "7982/7982 [==============================] - 1s 180us/step - loss: 0.1809 - acc: 0.9515 - val_loss: 0.9979 - val_acc: 0.8070\n",
      "Epoch 13/14\n",
      "7982/7982 [==============================] - 1s 182us/step - loss: 0.1644 - acc: 0.9528 - val_loss: 0.9715 - val_acc: 0.8150\n",
      "Epoch 14/14\n",
      "7982/7982 [==============================] - 1s 180us/step - loss: 0.1481 - acc: 0.9548 - val_loss: 0.9890 - val_acc: 0.8140\n",
      "2246/2246 [==============================] - 0s 150us/step\n"
     ]
    }
   ],
   "source": [
    "# Let's retrain our model for epochs 15\n",
    "model = models.Sequential()\n",
    "model.add(layers.Dense(64, activation='relu', input_shape=(12000,)))\n",
    "model.add(layers.Dense(64, activation='relu'))\n",
    "model.add(layers.Dense(46, activation='softmax'))\n",
    "\n",
    "#Compiling the model\n",
    "model.compile(optimizer='rmsprop', loss='categorical_crossentropy', metrics=['accuracy'])\n",
    "\n",
    "#Traning the model\n",
    "model.fit(x_train, y_train, epochs=14 , batch_size=512, validation_data=(x_val, y_val))\n",
    "\n",
    "#Results of test data\n",
    "results = model.evaluate(x_test, test_labels)\n",
    "\n"
   ]
  },
  {
   "cell_type": "markdown",
   "metadata": {},
   "source": [
    "Still we can do some further experiement for increasing the accuracy because we are getting maximum accuracy at epochs 8.\n",
    "**You should try.** "
   ]
  },
  {
   "cell_type": "code",
   "execution_count": 31,
   "metadata": {},
   "outputs": [
    {
     "data": {
      "text/plain": [
       "[1.1400843709043806, 0.78584149601941433]"
      ]
     },
     "execution_count": 31,
     "metadata": {},
     "output_type": "execute_result"
    }
   ],
   "source": [
    "results"
   ]
  },
  {
   "cell_type": "markdown",
   "metadata": {},
   "source": [
    "With this approch we are getting accuracy of 78%, which is not bad but accuracy can be increased. "
   ]
  },
  {
   "cell_type": "markdown",
   "metadata": {},
   "source": [
    "**Some of the things which I have not mentioned like Why History, activation function etc. You can find about these details in binary calssification.** "
   ]
  }
 ],
 "metadata": {
  "hide_input": false,
  "kernelspec": {
   "display_name": "Python 2",
   "language": "python",
   "name": "python2"
  },
  "language_info": {
   "codemirror_mode": {
    "name": "ipython",
    "version": 2
   },
   "file_extension": ".py",
   "mimetype": "text/x-python",
   "name": "python",
   "nbconvert_exporter": "python",
   "pygments_lexer": "ipython2",
   "version": "2.7.6"
  }
 },
 "nbformat": 4,
 "nbformat_minor": 2
}
